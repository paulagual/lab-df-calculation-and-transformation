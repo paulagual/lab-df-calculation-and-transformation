{
 "cells": [
  {
   "cell_type": "markdown",
   "metadata": {},
   "source": [
    "# Challenge 3\n",
    "\n",
    "In this challenge we will work on the `Orders.csv` data set in the previous [Subsetting and Descriptive Stats lab](../../lab-subsetting-and-descriptive-stats/your-code/main.ipynb). In your work you will apply the thinking process and workflow we showed you in Challenge 2.\n",
    "\n",
    "You are serving as a Business Intelligence Analyst at the headquarter of an international fashion goods chain store. Your boss today asked you to do two things for her:\n",
    "\n",
    "**First, identify two groups of customers from the data set.** The first group is **VIP Customers** whose **aggregated expenses** at your global chain stores are **above the 95th percentile** (aka. 0.95 quantile). The second group is **Preferred Customers** whose **aggregated expenses** are **between the 75th and 95th percentile**.\n",
    "\n",
    "**Second, identify which country has the most of your VIP customers, and which country has the most of your VIP+Preferred Customers combined.**"
   ]
  },
  {
   "cell_type": "markdown",
   "metadata": {},
   "source": [
    "# Q1: How to identify VIP & Preferred Customers?\n",
    "\n",
    "We start by importing all the required libraries:"
   ]
  },
  {
   "cell_type": "code",
   "execution_count": 1,
   "metadata": {},
   "outputs": [],
   "source": [
    "# import required libraries\n",
    "import numpy as np\n",
    "import pandas as pd"
   ]
  },
  {
   "cell_type": "markdown",
   "metadata": {},
   "source": [
    "Next, import `Orders.csv` from the \"subsetting\" lab folder into a dataframe variable called `orders`. Print the head of `orders` to overview the data:"
   ]
  },
  {
   "cell_type": "code",
   "execution_count": 2,
   "metadata": {},
   "outputs": [
    {
     "data": {
      "text/html": [
       "<div>\n",
       "<style scoped>\n",
       "    .dataframe tbody tr th:only-of-type {\n",
       "        vertical-align: middle;\n",
       "    }\n",
       "\n",
       "    .dataframe tbody tr th {\n",
       "        vertical-align: top;\n",
       "    }\n",
       "\n",
       "    .dataframe thead th {\n",
       "        text-align: right;\n",
       "    }\n",
       "</style>\n",
       "<table border=\"1\" class=\"dataframe\">\n",
       "  <thead>\n",
       "    <tr style=\"text-align: right;\">\n",
       "      <th></th>\n",
       "      <th>Unnamed: 0</th>\n",
       "      <th>InvoiceNo</th>\n",
       "      <th>StockCode</th>\n",
       "      <th>year</th>\n",
       "      <th>month</th>\n",
       "      <th>day</th>\n",
       "      <th>hour</th>\n",
       "      <th>Description</th>\n",
       "      <th>Quantity</th>\n",
       "      <th>InvoiceDate</th>\n",
       "      <th>UnitPrice</th>\n",
       "      <th>CustomerID</th>\n",
       "      <th>Country</th>\n",
       "      <th>amount_spent</th>\n",
       "    </tr>\n",
       "  </thead>\n",
       "  <tbody>\n",
       "    <tr>\n",
       "      <th>0</th>\n",
       "      <td>0</td>\n",
       "      <td>536365</td>\n",
       "      <td>85123A</td>\n",
       "      <td>2010</td>\n",
       "      <td>12</td>\n",
       "      <td>3</td>\n",
       "      <td>8</td>\n",
       "      <td>white hanging heart t-light holder</td>\n",
       "      <td>6</td>\n",
       "      <td>2010-12-01 08:26:00</td>\n",
       "      <td>2.55</td>\n",
       "      <td>17850</td>\n",
       "      <td>United Kingdom</td>\n",
       "      <td>15.30</td>\n",
       "    </tr>\n",
       "    <tr>\n",
       "      <th>1</th>\n",
       "      <td>1</td>\n",
       "      <td>536365</td>\n",
       "      <td>71053</td>\n",
       "      <td>2010</td>\n",
       "      <td>12</td>\n",
       "      <td>3</td>\n",
       "      <td>8</td>\n",
       "      <td>white metal lantern</td>\n",
       "      <td>6</td>\n",
       "      <td>2010-12-01 08:26:00</td>\n",
       "      <td>3.39</td>\n",
       "      <td>17850</td>\n",
       "      <td>United Kingdom</td>\n",
       "      <td>20.34</td>\n",
       "    </tr>\n",
       "    <tr>\n",
       "      <th>2</th>\n",
       "      <td>2</td>\n",
       "      <td>536365</td>\n",
       "      <td>84406B</td>\n",
       "      <td>2010</td>\n",
       "      <td>12</td>\n",
       "      <td>3</td>\n",
       "      <td>8</td>\n",
       "      <td>cream cupid hearts coat hanger</td>\n",
       "      <td>8</td>\n",
       "      <td>2010-12-01 08:26:00</td>\n",
       "      <td>2.75</td>\n",
       "      <td>17850</td>\n",
       "      <td>United Kingdom</td>\n",
       "      <td>22.00</td>\n",
       "    </tr>\n",
       "    <tr>\n",
       "      <th>3</th>\n",
       "      <td>3</td>\n",
       "      <td>536365</td>\n",
       "      <td>84029G</td>\n",
       "      <td>2010</td>\n",
       "      <td>12</td>\n",
       "      <td>3</td>\n",
       "      <td>8</td>\n",
       "      <td>knitted union flag hot water bottle</td>\n",
       "      <td>6</td>\n",
       "      <td>2010-12-01 08:26:00</td>\n",
       "      <td>3.39</td>\n",
       "      <td>17850</td>\n",
       "      <td>United Kingdom</td>\n",
       "      <td>20.34</td>\n",
       "    </tr>\n",
       "    <tr>\n",
       "      <th>4</th>\n",
       "      <td>4</td>\n",
       "      <td>536365</td>\n",
       "      <td>84029E</td>\n",
       "      <td>2010</td>\n",
       "      <td>12</td>\n",
       "      <td>3</td>\n",
       "      <td>8</td>\n",
       "      <td>red woolly hottie white heart.</td>\n",
       "      <td>6</td>\n",
       "      <td>2010-12-01 08:26:00</td>\n",
       "      <td>3.39</td>\n",
       "      <td>17850</td>\n",
       "      <td>United Kingdom</td>\n",
       "      <td>20.34</td>\n",
       "    </tr>\n",
       "  </tbody>\n",
       "</table>\n",
       "</div>"
      ],
      "text/plain": [
       "   Unnamed: 0  InvoiceNo StockCode  year  month  day  hour  \\\n",
       "0           0     536365    85123A  2010     12    3     8   \n",
       "1           1     536365     71053  2010     12    3     8   \n",
       "2           2     536365    84406B  2010     12    3     8   \n",
       "3           3     536365    84029G  2010     12    3     8   \n",
       "4           4     536365    84029E  2010     12    3     8   \n",
       "\n",
       "                           Description  Quantity          InvoiceDate  \\\n",
       "0   white hanging heart t-light holder         6  2010-12-01 08:26:00   \n",
       "1                  white metal lantern         6  2010-12-01 08:26:00   \n",
       "2       cream cupid hearts coat hanger         8  2010-12-01 08:26:00   \n",
       "3  knitted union flag hot water bottle         6  2010-12-01 08:26:00   \n",
       "4       red woolly hottie white heart.         6  2010-12-01 08:26:00   \n",
       "\n",
       "   UnitPrice  CustomerID         Country  amount_spent  \n",
       "0       2.55       17850  United Kingdom         15.30  \n",
       "1       3.39       17850  United Kingdom         20.34  \n",
       "2       2.75       17850  United Kingdom         22.00  \n",
       "3       3.39       17850  United Kingdom         20.34  \n",
       "4       3.39       17850  United Kingdom         20.34  "
      ]
     },
     "execution_count": 2,
     "metadata": {},
     "output_type": "execute_result"
    }
   ],
   "source": [
    "# enter your code here\n",
    "orders = pd.read_csv(\"Orders.csv\")\n",
    "orders.head()"
   ]
  },
  {
   "cell_type": "code",
   "execution_count": 3,
   "metadata": {},
   "outputs": [
    {
     "data": {
      "text/plain": [
       "(397924, 14)"
      ]
     },
     "execution_count": 3,
     "metadata": {},
     "output_type": "execute_result"
    }
   ],
   "source": [
    "orders.shape"
   ]
  },
  {
   "cell_type": "markdown",
   "metadata": {},
   "source": [
    "---\n",
    "\n",
    "\"Identify VIP and Preferred Customers\" is the non-technical goal of your boss. You need to translate that goal into technical languages that data analysts use:\n",
    "\n",
    "## How to label customers whose aggregated `amount_spent` is in a given quantile range?\n"
   ]
  },
  {
   "cell_type": "markdown",
   "metadata": {},
   "source": [
    "We break down the main problem into several sub problems:\n",
    "\n",
    "#### Sub Problem 1: How to aggregate the  `amount_spent` for unique customers?\n",
    "\n",
    "#### Sub Problem 2: How to select customers whose aggregated `amount_spent` is in a given quantile range?\n",
    "\n",
    "#### Sub Problem 3: How to label selected customers as \"VIP\" or \"Preferred\"?\n",
    "\n",
    "*Note: If you want to break down the main problem in a different way, please feel free to revise the sub problems above.*\n",
    "\n",
    "Now in the workspace below, tackle each of the sub problems using the iterative problem solving workflow. Insert cells as necessary to write your codes and explain your steps."
   ]
  },
  {
   "cell_type": "markdown",
   "metadata": {},
   "source": [
    "### Subproblem 1: How to aggregate the  `amount_spent` for unique customers?"
   ]
  },
  {
   "cell_type": "code",
   "execution_count": 23,
   "metadata": {},
   "outputs": [
    {
     "data": {
      "text/plain": [
       "CustomerID\n",
       "14646    280206.02\n",
       "18102    259657.30\n",
       "17450    194550.79\n",
       "16446    168472.50\n",
       "14911    143825.06\n",
       "12415    124914.53\n",
       "14156    117379.63\n",
       "17511     91062.38\n",
       "16029     81024.84\n",
       "12346     77183.60\n",
       "16684     66653.56\n",
       "14096     65164.79\n",
       "13694     65039.62\n",
       "15311     60767.90\n",
       "13089     58825.83\n",
       "17949     58510.48\n",
       "15769     56252.72\n",
       "15061     54534.14\n",
       "14298     51527.30\n",
       "14088     50491.81\n",
       "15749     44534.30\n",
       "12931     42055.96\n",
       "17841     40991.57\n",
       "15098     39916.50\n",
       "13798     37153.85\n",
       "16013     37130.60\n",
       "16422     34684.40\n",
       "12748     33719.73\n",
       "15838     33643.08\n",
       "17404     31906.82\n",
       "           ...    \n",
       "14589        39.75\n",
       "12977        39.24\n",
       "16659        39.12\n",
       "18019        38.45\n",
       "12855        38.10\n",
       "16162        37.40\n",
       "17816        36.56\n",
       "15940        35.80\n",
       "17831        35.40\n",
       "16856        35.40\n",
       "14576        35.40\n",
       "15744        34.80\n",
       "16765        34.00\n",
       "17408        32.65\n",
       "13120        30.60\n",
       "15657        30.00\n",
       "18268        25.50\n",
       "17102        25.50\n",
       "17986        20.80\n",
       "16953        20.80\n",
       "16093        17.00\n",
       "13307        15.00\n",
       "17763        15.00\n",
       "15823        15.00\n",
       "16878        13.30\n",
       "17956        12.75\n",
       "16454         6.90\n",
       "14792         6.20\n",
       "16738         3.75\n",
       "13256         0.00\n",
       "Name: amount_spent, Length: 4339, dtype: float64"
      ]
     },
     "execution_count": 23,
     "metadata": {},
     "output_type": "execute_result"
    }
   ],
   "source": [
    "# your code here\n",
    "orders.groupby('CustomerID')['amount_spent'].sum().sort_values(ascending=False)"
   ]
  },
  {
   "cell_type": "code",
   "execution_count": 25,
   "metadata": {},
   "outputs": [],
   "source": [
    "customers = orders.groupby('CustomerID')['amount_spent'].sum().sort_values(ascending=False)"
   ]
  },
  {
   "cell_type": "markdown",
   "metadata": {},
   "source": [
    "### Sub Problem 2: How to select customers whose aggregated `amount_spent` is in a given quantile range?"
   ]
  },
  {
   "cell_type": "code",
   "execution_count": 32,
   "metadata": {},
   "outputs": [
    {
     "data": {
      "text/plain": [
       "5840.181999999983"
      ]
     },
     "execution_count": 32,
     "metadata": {},
     "output_type": "execute_result"
    }
   ],
   "source": [
    "# Select the percentil \n",
    "q = 0.95\n",
    "q_amount = customers.quantile(q)\n",
    "q_amount"
   ]
  },
  {
   "cell_type": "code",
   "execution_count": 33,
   "metadata": {},
   "outputs": [
    {
     "data": {
      "text/plain": [
       "CustomerID\n",
       "14646    280206.02\n",
       "18102    259657.30\n",
       "17450    194550.79\n",
       "16446    168472.50\n",
       "14911    143825.06\n",
       "12415    124914.53\n",
       "14156    117379.63\n",
       "17511     91062.38\n",
       "16029     81024.84\n",
       "12346     77183.60\n",
       "16684     66653.56\n",
       "14096     65164.79\n",
       "13694     65039.62\n",
       "15311     60767.90\n",
       "13089     58825.83\n",
       "17949     58510.48\n",
       "15769     56252.72\n",
       "15061     54534.14\n",
       "14298     51527.30\n",
       "14088     50491.81\n",
       "15749     44534.30\n",
       "12931     42055.96\n",
       "17841     40991.57\n",
       "15098     39916.50\n",
       "13798     37153.85\n",
       "16013     37130.60\n",
       "16422     34684.40\n",
       "12748     33719.73\n",
       "15838     33643.08\n",
       "17404     31906.82\n",
       "           ...    \n",
       "16814      6509.10\n",
       "12431      6487.45\n",
       "18223      6484.54\n",
       "15694      6479.40\n",
       "13225      6463.84\n",
       "13102      6424.09\n",
       "13871      6403.25\n",
       "12359      6372.58\n",
       "13668      6363.59\n",
       "13709      6328.05\n",
       "15005      6316.57\n",
       "17315      6292.26\n",
       "16126      6287.77\n",
       "14057      6217.96\n",
       "12357      6207.67\n",
       "14060      6140.42\n",
       "13418      6127.43\n",
       "17509      6115.14\n",
       "15939      6115.01\n",
       "14735      6065.69\n",
       "12637      6021.90\n",
       "13097      6010.42\n",
       "13316      5977.73\n",
       "14101      5976.79\n",
       "15382      5955.71\n",
       "14505      5905.64\n",
       "14415      5900.28\n",
       "14944      5900.25\n",
       "13209      5891.61\n",
       "13534      5870.08\n",
       "Name: amount_spent, Length: 217, dtype: float64"
      ]
     },
     "execution_count": 33,
     "metadata": {},
     "output_type": "execute_result"
    }
   ],
   "source": [
    "vip = customers[customers>q_amount]\n",
    "vip"
   ]
  },
  {
   "cell_type": "code",
   "execution_count": 34,
   "metadata": {},
   "outputs": [
    {
     "data": {
      "text/plain": [
       "(217,)"
      ]
     },
     "execution_count": 34,
     "metadata": {},
     "output_type": "execute_result"
    }
   ],
   "source": [
    "vip.shape"
   ]
  },
  {
   "cell_type": "markdown",
   "metadata": {},
   "source": [
    "### Sub Problem 3: How to label selected customers as \"VIP\" or \"Preferred\"?"
   ]
  },
  {
   "cell_type": "code",
   "execution_count": 41,
   "metadata": {},
   "outputs": [
    {
     "data": {
      "text/plain": [
       "[0, 0, 0, 0, 0, 0, 0, 0, 0, 0, 0, 1, 1, 1, 1, 1, 1, 1, 1, 1]"
      ]
     },
     "execution_count": 41,
     "metadata": {},
     "output_type": "execute_result"
    }
   ],
   "source": [
    "vip_list = []\n",
    "for i in orders['CustomerID']:\n",
    "    if i in vip.index:\n",
    "        vip_list.append(1) #If VIP --> 1\n",
    "    else:\n",
    "        vip_list.append(0) #If not VIP --> 0  \n",
    "vip_list[15:35]    "
   ]
  },
  {
   "cell_type": "code",
   "execution_count": 42,
   "metadata": {},
   "outputs": [],
   "source": [
    "orders['VIP'] = vip_list"
   ]
  },
  {
   "cell_type": "code",
   "execution_count": 47,
   "metadata": {},
   "outputs": [
    {
     "data": {
      "text/html": [
       "<div>\n",
       "<style scoped>\n",
       "    .dataframe tbody tr th:only-of-type {\n",
       "        vertical-align: middle;\n",
       "    }\n",
       "\n",
       "    .dataframe tbody tr th {\n",
       "        vertical-align: top;\n",
       "    }\n",
       "\n",
       "    .dataframe thead th {\n",
       "        text-align: right;\n",
       "    }\n",
       "</style>\n",
       "<table border=\"1\" class=\"dataframe\">\n",
       "  <thead>\n",
       "    <tr style=\"text-align: right;\">\n",
       "      <th></th>\n",
       "      <th>Unnamed: 0</th>\n",
       "      <th>InvoiceNo</th>\n",
       "      <th>StockCode</th>\n",
       "      <th>year</th>\n",
       "      <th>month</th>\n",
       "      <th>day</th>\n",
       "      <th>hour</th>\n",
       "      <th>Description</th>\n",
       "      <th>Quantity</th>\n",
       "      <th>InvoiceDate</th>\n",
       "      <th>UnitPrice</th>\n",
       "      <th>CustomerID</th>\n",
       "      <th>Country</th>\n",
       "      <th>amount_spent</th>\n",
       "      <th>VIP</th>\n",
       "    </tr>\n",
       "  </thead>\n",
       "  <tbody>\n",
       "    <tr>\n",
       "      <th>0</th>\n",
       "      <td>0</td>\n",
       "      <td>536365</td>\n",
       "      <td>85123A</td>\n",
       "      <td>2010</td>\n",
       "      <td>12</td>\n",
       "      <td>3</td>\n",
       "      <td>8</td>\n",
       "      <td>white hanging heart t-light holder</td>\n",
       "      <td>6</td>\n",
       "      <td>2010-12-01 08:26:00</td>\n",
       "      <td>2.55</td>\n",
       "      <td>17850</td>\n",
       "      <td>United Kingdom</td>\n",
       "      <td>15.30</td>\n",
       "      <td>0</td>\n",
       "    </tr>\n",
       "    <tr>\n",
       "      <th>1</th>\n",
       "      <td>1</td>\n",
       "      <td>536365</td>\n",
       "      <td>71053</td>\n",
       "      <td>2010</td>\n",
       "      <td>12</td>\n",
       "      <td>3</td>\n",
       "      <td>8</td>\n",
       "      <td>white metal lantern</td>\n",
       "      <td>6</td>\n",
       "      <td>2010-12-01 08:26:00</td>\n",
       "      <td>3.39</td>\n",
       "      <td>17850</td>\n",
       "      <td>United Kingdom</td>\n",
       "      <td>20.34</td>\n",
       "      <td>0</td>\n",
       "    </tr>\n",
       "    <tr>\n",
       "      <th>2</th>\n",
       "      <td>2</td>\n",
       "      <td>536365</td>\n",
       "      <td>84406B</td>\n",
       "      <td>2010</td>\n",
       "      <td>12</td>\n",
       "      <td>3</td>\n",
       "      <td>8</td>\n",
       "      <td>cream cupid hearts coat hanger</td>\n",
       "      <td>8</td>\n",
       "      <td>2010-12-01 08:26:00</td>\n",
       "      <td>2.75</td>\n",
       "      <td>17850</td>\n",
       "      <td>United Kingdom</td>\n",
       "      <td>22.00</td>\n",
       "      <td>0</td>\n",
       "    </tr>\n",
       "    <tr>\n",
       "      <th>3</th>\n",
       "      <td>3</td>\n",
       "      <td>536365</td>\n",
       "      <td>84029G</td>\n",
       "      <td>2010</td>\n",
       "      <td>12</td>\n",
       "      <td>3</td>\n",
       "      <td>8</td>\n",
       "      <td>knitted union flag hot water bottle</td>\n",
       "      <td>6</td>\n",
       "      <td>2010-12-01 08:26:00</td>\n",
       "      <td>3.39</td>\n",
       "      <td>17850</td>\n",
       "      <td>United Kingdom</td>\n",
       "      <td>20.34</td>\n",
       "      <td>0</td>\n",
       "    </tr>\n",
       "    <tr>\n",
       "      <th>4</th>\n",
       "      <td>4</td>\n",
       "      <td>536365</td>\n",
       "      <td>84029E</td>\n",
       "      <td>2010</td>\n",
       "      <td>12</td>\n",
       "      <td>3</td>\n",
       "      <td>8</td>\n",
       "      <td>red woolly hottie white heart.</td>\n",
       "      <td>6</td>\n",
       "      <td>2010-12-01 08:26:00</td>\n",
       "      <td>3.39</td>\n",
       "      <td>17850</td>\n",
       "      <td>United Kingdom</td>\n",
       "      <td>20.34</td>\n",
       "      <td>0</td>\n",
       "    </tr>\n",
       "  </tbody>\n",
       "</table>\n",
       "</div>"
      ],
      "text/plain": [
       "   Unnamed: 0  InvoiceNo StockCode  year  month  day  hour  \\\n",
       "0           0     536365    85123A  2010     12    3     8   \n",
       "1           1     536365     71053  2010     12    3     8   \n",
       "2           2     536365    84406B  2010     12    3     8   \n",
       "3           3     536365    84029G  2010     12    3     8   \n",
       "4           4     536365    84029E  2010     12    3     8   \n",
       "\n",
       "                           Description  Quantity          InvoiceDate  \\\n",
       "0   white hanging heart t-light holder         6  2010-12-01 08:26:00   \n",
       "1                  white metal lantern         6  2010-12-01 08:26:00   \n",
       "2       cream cupid hearts coat hanger         8  2010-12-01 08:26:00   \n",
       "3  knitted union flag hot water bottle         6  2010-12-01 08:26:00   \n",
       "4       red woolly hottie white heart.         6  2010-12-01 08:26:00   \n",
       "\n",
       "   UnitPrice  CustomerID         Country  amount_spent  VIP  \n",
       "0       2.55       17850  United Kingdom         15.30    0  \n",
       "1       3.39       17850  United Kingdom         20.34    0  \n",
       "2       2.75       17850  United Kingdom         22.00    0  \n",
       "3       3.39       17850  United Kingdom         20.34    0  \n",
       "4       3.39       17850  United Kingdom         20.34    0  "
      ]
     },
     "execution_count": 47,
     "metadata": {},
     "output_type": "execute_result"
    }
   ],
   "source": [
    "orders.head()"
   ]
  },
  {
   "cell_type": "markdown",
   "metadata": {},
   "source": [
    "Now we'll leave it to you to solve Q2 & Q3, which you can leverage from your solution for Q1:\n",
    "\n",
    "# Q2: How to identify which country has the most VIP Customers?"
   ]
  },
  {
   "cell_type": "code",
   "execution_count": 48,
   "metadata": {},
   "outputs": [],
   "source": [
    "# your code here\n",
    "customers_c = orders.groupby(['CustomerID','Country'])['amount_spent'].sum().sort_values(ascending=False)\n"
   ]
  },
  {
   "cell_type": "code",
   "execution_count": 49,
   "metadata": {},
   "outputs": [
    {
     "data": {
      "text/plain": [
       "CustomerID  Country       \n",
       "14646       Netherlands       280206.02\n",
       "18102       United Kingdom    259657.30\n",
       "17450       United Kingdom    194550.79\n",
       "16446       United Kingdom    168472.50\n",
       "14911       EIRE              143825.06\n",
       "Name: amount_spent, dtype: float64"
      ]
     },
     "execution_count": 49,
     "metadata": {},
     "output_type": "execute_result"
    }
   ],
   "source": [
    "customers_c.head()"
   ]
  },
  {
   "cell_type": "code",
   "execution_count": 66,
   "metadata": {},
   "outputs": [
    {
     "data": {
      "text/plain": [
       "5774.277999999997"
      ]
     },
     "execution_count": 66,
     "metadata": {},
     "output_type": "execute_result"
    }
   ],
   "source": [
    "# Select the percentil \n",
    "q = 0.95\n",
    "q_amount_v = customers_c.quantile(q)\n",
    "q_amount_v"
   ]
  },
  {
   "cell_type": "code",
   "execution_count": 67,
   "metadata": {},
   "outputs": [
    {
     "data": {
      "text/plain": [
       "CustomerID  Country       \n",
       "14646       Netherlands       280206.02\n",
       "18102       United Kingdom    259657.30\n",
       "17450       United Kingdom    194550.79\n",
       "16446       United Kingdom    168472.50\n",
       "14911       EIRE              143825.06\n",
       "12415       Australia         124914.53\n",
       "14156       EIRE              117379.63\n",
       "17511       United Kingdom     91062.38\n",
       "16029       United Kingdom     81024.84\n",
       "12346       United Kingdom     77183.60\n",
       "16684       United Kingdom     66653.56\n",
       "14096       United Kingdom     65164.79\n",
       "13694       United Kingdom     65039.62\n",
       "15311       United Kingdom     60767.90\n",
       "13089       United Kingdom     58825.83\n",
       "17949       United Kingdom     58510.48\n",
       "15769       United Kingdom     56252.72\n",
       "15061       United Kingdom     54534.14\n",
       "14298       United Kingdom     51527.30\n",
       "14088       United Kingdom     50491.81\n",
       "15749       United Kingdom     44534.30\n",
       "12931       United Kingdom     42055.96\n",
       "17841       United Kingdom     40991.57\n",
       "15098       United Kingdom     39916.50\n",
       "13798       United Kingdom     37153.85\n",
       "16013       United Kingdom     37130.60\n",
       "16422       United Kingdom     34684.40\n",
       "12748       United Kingdom     33719.73\n",
       "15838       United Kingdom     33643.08\n",
       "17404       Sweden             31906.82\n",
       "                                ...    \n",
       "18223       United Kingdom      6484.54\n",
       "15694       United Kingdom      6479.40\n",
       "13225       United Kingdom      6463.84\n",
       "13102       United Kingdom      6424.09\n",
       "13871       United Kingdom      6403.25\n",
       "12359       Cyprus              6372.58\n",
       "13668       United Kingdom      6363.59\n",
       "13709       United Kingdom      6328.05\n",
       "15005       United Kingdom      6316.57\n",
       "17315       United Kingdom      6292.26\n",
       "16126       United Kingdom      6287.77\n",
       "14057       United Kingdom      6217.96\n",
       "12357       Switzerland         6207.67\n",
       "14060       United Kingdom      6140.42\n",
       "13418       United Kingdom      6127.43\n",
       "17509       United Kingdom      6115.14\n",
       "15939       United Kingdom      6115.01\n",
       "14735       United Kingdom      6065.69\n",
       "12637       France              6021.90\n",
       "13097       United Kingdom      6010.42\n",
       "13316       United Kingdom      5977.73\n",
       "14101       United Kingdom      5976.79\n",
       "15382       United Kingdom      5955.71\n",
       "14505       United Kingdom      5905.64\n",
       "14415       United Kingdom      5900.28\n",
       "14944       United Kingdom      5900.25\n",
       "13209       United Kingdom      5891.61\n",
       "13534       United Kingdom      5870.08\n",
       "13050       United Kingdom      5836.86\n",
       "12720       Germany             5781.73\n",
       "Name: amount_spent, Length: 218, dtype: float64"
      ]
     },
     "execution_count": 67,
     "metadata": {},
     "output_type": "execute_result"
    }
   ],
   "source": [
    "vip_c = customers_c[customers_c>q_amount_v]\n",
    "vip_c"
   ]
  },
  {
   "cell_type": "code",
   "execution_count": 58,
   "metadata": {},
   "outputs": [
    {
     "data": {
      "text/plain": [
       "Country\n",
       "United Kingdom    177\n",
       "Name: amount_spent, dtype: int64"
      ]
     },
     "execution_count": 58,
     "metadata": {},
     "output_type": "execute_result"
    }
   ],
   "source": [
    "top_vip_countries = vip_c.groupby('Country').count().sort_values(ascending=False)\n",
    "top_vip_countries.head(1)"
   ]
  },
  {
   "cell_type": "markdown",
   "metadata": {},
   "source": [
    "# Q3: How to identify which country has the most VIP+Preferred Customers combined?\n",
    "\n",
    "Provide your solution for Q2 below:"
   ]
  },
  {
   "cell_type": "code",
   "execution_count": 65,
   "metadata": {},
   "outputs": [
    {
     "data": {
      "text/plain": [
       "1661.1950000000002"
      ]
     },
     "execution_count": 65,
     "metadata": {},
     "output_type": "execute_result"
    }
   ],
   "source": [
    "# your code here\n",
    "# Select the percentil \n",
    "q95 = 0.95\n",
    "q75 = 0.75\n",
    "q_amount_p = customers_c.quantile(q75)\n",
    "q_amount_p"
   ]
  },
  {
   "cell_type": "code",
   "execution_count": 68,
   "metadata": {},
   "outputs": [
    {
     "data": {
      "text/plain": [
       "CustomerID  Country       \n",
       "15218       United Kingdom    5756.89\n",
       "17686       United Kingdom    5739.46\n",
       "13178       United Kingdom    5725.47\n",
       "16553       United Kingdom    5719.82\n",
       "13468       United Kingdom    5704.97\n",
       "14110       United Kingdom    5683.15\n",
       "14049       United Kingdom    5681.72\n",
       "17049       United Kingdom    5659.98\n",
       "17716       United Kingdom    5655.99\n",
       "13004       United Kingdom    5655.91\n",
       "18118       United Kingdom    5653.82\n",
       "14688       United Kingdom    5630.87\n",
       "17757       United Kingdom    5605.29\n",
       "12481       Germany           5596.32\n",
       "12839       United Kingdom    5591.42\n",
       "16767       United Kingdom    5580.60\n",
       "16161       United Kingdom    5575.56\n",
       "12539       Spain             5568.35\n",
       "15805       United Kingdom    5528.48\n",
       "12431       Australia         5514.67\n",
       "18225       United Kingdom    5509.12\n",
       "16609       United Kingdom    5493.46\n",
       "16985       United Kingdom    5464.12\n",
       "16265       United Kingdom    5447.00\n",
       "18198       United Kingdom    5425.56\n",
       "12490       France            5417.93\n",
       "17809       United Kingdom    5411.91\n",
       "16701       United Kingdom    5398.30\n",
       "17719       United Kingdom    5396.04\n",
       "17850       United Kingdom    5391.21\n",
       "                               ...   \n",
       "15240       United Kingdom    1706.57\n",
       "16398       United Kingdom    1705.80\n",
       "17282       United Kingdom    1703.41\n",
       "12843       United Kingdom    1702.26\n",
       "16007       United Kingdom    1701.94\n",
       "13184       United Kingdom    1701.29\n",
       "17193       United Kingdom    1699.30\n",
       "13824       United Kingdom    1698.94\n",
       "12455       Cyprus            1698.90\n",
       "16775       United Kingdom    1695.66\n",
       "12764       Lebanon           1693.88\n",
       "14245       United Kingdom    1693.45\n",
       "15549       United Kingdom    1693.26\n",
       "16813       United Kingdom    1692.98\n",
       "16671       United Kingdom    1692.27\n",
       "15380       United Kingdom    1690.26\n",
       "17152       United Kingdom    1689.50\n",
       "12635       Germany           1689.18\n",
       "13162       United Kingdom    1688.29\n",
       "13577       United Kingdom    1687.60\n",
       "16638       United Kingdom    1680.72\n",
       "13647       United Kingdom    1678.12\n",
       "13149       United Kingdom    1676.06\n",
       "17656       United Kingdom    1674.69\n",
       "16115       United Kingdom    1667.97\n",
       "12912       United Kingdom    1662.30\n",
       "12530       Germany           1662.28\n",
       "13012       United Kingdom    1661.84\n",
       "15214       United Kingdom    1661.44\n",
       "15024       United Kingdom    1661.33\n",
       "Name: amount_spent, Length: 869, dtype: float64"
      ]
     },
     "execution_count": 68,
     "metadata": {},
     "output_type": "execute_result"
    }
   ],
   "source": [
    "prefered_c = customers_c[(customers_c>q_amount_p)&(customers_c<q_amount_v)]\n",
    "prefered_c"
   ]
  },
  {
   "cell_type": "code",
   "execution_count": 69,
   "metadata": {},
   "outputs": [
    {
     "data": {
      "text/plain": [
       "CustomerID  Country       \n",
       "14646       Netherlands       280206.02\n",
       "18102       United Kingdom    259657.30\n",
       "17450       United Kingdom    194550.79\n",
       "16446       United Kingdom    168472.50\n",
       "14911       EIRE              143825.06\n",
       "12415       Australia         124914.53\n",
       "14156       EIRE              117379.63\n",
       "17511       United Kingdom     91062.38\n",
       "16029       United Kingdom     81024.84\n",
       "12346       United Kingdom     77183.60\n",
       "16684       United Kingdom     66653.56\n",
       "14096       United Kingdom     65164.79\n",
       "13694       United Kingdom     65039.62\n",
       "15311       United Kingdom     60767.90\n",
       "13089       United Kingdom     58825.83\n",
       "17949       United Kingdom     58510.48\n",
       "15769       United Kingdom     56252.72\n",
       "15061       United Kingdom     54534.14\n",
       "14298       United Kingdom     51527.30\n",
       "14088       United Kingdom     50491.81\n",
       "15749       United Kingdom     44534.30\n",
       "12931       United Kingdom     42055.96\n",
       "17841       United Kingdom     40991.57\n",
       "15098       United Kingdom     39916.50\n",
       "13798       United Kingdom     37153.85\n",
       "16013       United Kingdom     37130.60\n",
       "16422       United Kingdom     34684.40\n",
       "12748       United Kingdom     33719.73\n",
       "15838       United Kingdom     33643.08\n",
       "17404       Sweden             31906.82\n",
       "                                ...    \n",
       "15240       United Kingdom      1706.57\n",
       "16398       United Kingdom      1705.80\n",
       "17282       United Kingdom      1703.41\n",
       "12843       United Kingdom      1702.26\n",
       "16007       United Kingdom      1701.94\n",
       "13184       United Kingdom      1701.29\n",
       "17193       United Kingdom      1699.30\n",
       "13824       United Kingdom      1698.94\n",
       "12455       Cyprus              1698.90\n",
       "16775       United Kingdom      1695.66\n",
       "12764       Lebanon             1693.88\n",
       "14245       United Kingdom      1693.45\n",
       "15549       United Kingdom      1693.26\n",
       "16813       United Kingdom      1692.98\n",
       "16671       United Kingdom      1692.27\n",
       "15380       United Kingdom      1690.26\n",
       "17152       United Kingdom      1689.50\n",
       "12635       Germany             1689.18\n",
       "13162       United Kingdom      1688.29\n",
       "13577       United Kingdom      1687.60\n",
       "16638       United Kingdom      1680.72\n",
       "13647       United Kingdom      1678.12\n",
       "13149       United Kingdom      1676.06\n",
       "17656       United Kingdom      1674.69\n",
       "16115       United Kingdom      1667.97\n",
       "12912       United Kingdom      1662.30\n",
       "12530       Germany             1662.28\n",
       "13012       United Kingdom      1661.84\n",
       "15214       United Kingdom      1661.44\n",
       "15024       United Kingdom      1661.33\n",
       "Name: amount_spent, Length: 1087, dtype: float64"
      ]
     },
     "execution_count": 69,
     "metadata": {},
     "output_type": "execute_result"
    }
   ],
   "source": [
    "vip_prefered_c = customers_c[(customers_c>q_amount_p)]\n",
    "vip_prefered_c"
   ]
  },
  {
   "cell_type": "code",
   "execution_count": 70,
   "metadata": {},
   "outputs": [
    {
     "data": {
      "text/plain": [
       "Country\n",
       "United Kingdom    934\n",
       "Name: amount_spent, dtype: int64"
      ]
     },
     "execution_count": 70,
     "metadata": {},
     "output_type": "execute_result"
    }
   ],
   "source": [
    "top_vip_pref_country = vip_prefered_c.groupby('Country').count().sort_values(ascending=False)\n",
    "top_vip_pref_country.head(1)"
   ]
  }
 ],
 "metadata": {
  "kernelspec": {
   "display_name": "Python 3",
   "language": "python",
   "name": "python3"
  },
  "language_info": {
   "codemirror_mode": {
    "name": "ipython",
    "version": 3
   },
   "file_extension": ".py",
   "mimetype": "text/x-python",
   "name": "python",
   "nbconvert_exporter": "python",
   "pygments_lexer": "ipython3",
   "version": "3.7.3"
  },
  "varInspector": {
   "cols": {
    "lenName": 16,
    "lenType": 16,
    "lenVar": 40
   },
   "kernels_config": {
    "python": {
     "delete_cmd_postfix": "",
     "delete_cmd_prefix": "del ",
     "library": "var_list.py",
     "varRefreshCmd": "print(var_dic_list())"
    },
    "r": {
     "delete_cmd_postfix": ") ",
     "delete_cmd_prefix": "rm(",
     "library": "var_list.r",
     "varRefreshCmd": "cat(var_dic_list()) "
    }
   },
   "types_to_exclude": [
    "module",
    "function",
    "builtin_function_or_method",
    "instance",
    "_Feature"
   ],
   "window_display": false
  }
 },
 "nbformat": 4,
 "nbformat_minor": 2
}
